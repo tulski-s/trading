{
 "cells": [
  {
   "cell_type": "code",
   "execution_count": 1,
   "metadata": {},
   "outputs": [],
   "source": [
    "import pandas as pd\n",
    "\n",
    "import numpy as np\n",
    "\n",
    "import matplotlib.pyplot as plt"
   ]
  },
  {
   "cell_type": "code",
   "execution_count": 2,
   "metadata": {},
   "outputs": [],
   "source": [
    "pricing_df = pd.read_csv('/Users/slaw/osobiste/gielda/CCC_pricing.csv')"
   ]
  },
  {
   "cell_type": "code",
   "execution_count": 3,
   "metadata": {},
   "outputs": [
    {
     "data": {
      "text/html": [
       "<div>\n",
       "<style scoped>\n",
       "    .dataframe tbody tr th:only-of-type {\n",
       "        vertical-align: middle;\n",
       "    }\n",
       "\n",
       "    .dataframe tbody tr th {\n",
       "        vertical-align: top;\n",
       "    }\n",
       "\n",
       "    .dataframe thead th {\n",
       "        text-align: right;\n",
       "    }\n",
       "</style>\n",
       "<table border=\"1\" class=\"dataframe\">\n",
       "  <thead>\n",
       "    <tr style=\"text-align: right;\">\n",
       "      <th></th>\n",
       "      <th>date</th>\n",
       "      <th>open</th>\n",
       "      <th>high</th>\n",
       "      <th>low</th>\n",
       "      <th>close</th>\n",
       "      <th>volume</th>\n",
       "    </tr>\n",
       "  </thead>\n",
       "  <tbody>\n",
       "    <tr>\n",
       "      <th>0</th>\n",
       "      <td>2004-12-02</td>\n",
       "      <td>10.10</td>\n",
       "      <td>10.25</td>\n",
       "      <td>9.85</td>\n",
       "      <td>9.95</td>\n",
       "      <td>252192</td>\n",
       "    </tr>\n",
       "    <tr>\n",
       "      <th>1</th>\n",
       "      <td>2004-12-03</td>\n",
       "      <td>9.95</td>\n",
       "      <td>9.95</td>\n",
       "      <td>9.45</td>\n",
       "      <td>9.80</td>\n",
       "      <td>47657</td>\n",
       "    </tr>\n",
       "    <tr>\n",
       "      <th>2</th>\n",
       "      <td>2004-12-06</td>\n",
       "      <td>9.75</td>\n",
       "      <td>9.75</td>\n",
       "      <td>9.50</td>\n",
       "      <td>9.60</td>\n",
       "      <td>24404</td>\n",
       "    </tr>\n",
       "    <tr>\n",
       "      <th>3</th>\n",
       "      <td>2004-12-07</td>\n",
       "      <td>9.50</td>\n",
       "      <td>9.50</td>\n",
       "      <td>9.15</td>\n",
       "      <td>9.40</td>\n",
       "      <td>22520</td>\n",
       "    </tr>\n",
       "    <tr>\n",
       "      <th>4</th>\n",
       "      <td>2004-12-08</td>\n",
       "      <td>9.40</td>\n",
       "      <td>9.40</td>\n",
       "      <td>9.10</td>\n",
       "      <td>9.35</td>\n",
       "      <td>11571</td>\n",
       "    </tr>\n",
       "  </tbody>\n",
       "</table>\n",
       "</div>"
      ],
      "text/plain": [
       "         date   open   high   low  close  volume\n",
       "0  2004-12-02  10.10  10.25  9.85   9.95  252192\n",
       "1  2004-12-03   9.95   9.95  9.45   9.80   47657\n",
       "2  2004-12-06   9.75   9.75  9.50   9.60   24404\n",
       "3  2004-12-07   9.50   9.50  9.15   9.40   22520\n",
       "4  2004-12-08   9.40   9.40  9.10   9.35   11571"
      ]
     },
     "execution_count": 3,
     "metadata": {},
     "output_type": "execute_result"
    }
   ],
   "source": [
    "pricing_df.head(5)"
   ]
  },
  {
   "cell_type": "code",
   "execution_count": 4,
   "metadata": {},
   "outputs": [],
   "source": [
    "def find_trend(df, t, label='close', show_graph=False, classification=False):\n",
    "    \"\"\"\n",
    "    Finds trend in pricing data (df) over last t days. Returns slope of the fitted straight line.\n",
    "    \"\"\"\n",
    "    y = df.tail(t)[label].to_numpy()\n",
    "    x = np.array(range(1,len(y)+1))\n",
    "    A = np.vstack([x, np.ones(len(x))]).T\n",
    "    # fits: y = ax + b\n",
    "    a, b = np.linalg.lstsq(A, y, rcond=None)[0]\n",
    "    if show_graph:\n",
    "        plt.plot(x, y, '-', label='Original data', markersize=10)\n",
    "        plt.plot(x, a*x + b, 'r', label='Fitted line')\n",
    "        plt.legend()\n",
    "        plt.show()\n",
    "    # arbitrary classification. no science here.\n",
    "    if classification:\n",
    "        if a >= -.25 and a <= .25:\n",
    "            return 'horizontal'\n",
    "        elif a > .25:\n",
    "            return 'uptrend'\n",
    "        elif a < -.25:\n",
    "            return 'downward'\n",
    "    if a >= .25:\n",
    "        return 1\n",
    "    elif a < -.25:\n",
    "        return -1\n",
    "    return 0"
   ]
  },
  {
   "cell_type": "code",
   "execution_count": 5,
   "metadata": {},
   "outputs": [
    {
     "data": {
      "image/png": "[encoded data removed]",
      "text/plain": [
       "<Figure size 432x288 with 1 Axes>"
      ]
     },
     "metadata": {
      "needs_background": "light"
     },
     "output_type": "display_data"
    },
    {
     "data": {
      "text/plain": [
       "'horizontal'"
      ]
     },
     "execution_count": 5,
     "metadata": {},
     "output_type": "execute_result"
    }
   ],
   "source": [
    "find_trend(pricing_df, 20, show_graph=True, classification=True)"
   ]
  },
  {
   "cell_type": "markdown",
   "metadata": {},
   "source": [
    "#### Support and Resistance rules:\n",
    "====================\n",
    "\n",
    "A simple trading rule based on the notion of support and resistance (S&R) is to buy when the closing price exceeds the maximum price over the previous n days,\n",
    "and sell when the closing price is less than the minimum price over the previous n days.\n",
    "\n",
    "Rather than base the rules on the maximum/minimum over a prespecified range of days, the S&R trading rules can also be based on an alternate definition of local extrema.\n",
    "That is, define a minimum/maximum to be the most recent closing price that is less/greater than the e previous closing prices.\n",
    "\n",
    "As with the MA rules, a fixed percentage band filter, b, and a time delay filter, d, can be included. Also, positions can be held for a prespecified number of days, c.\n",
    "\n",
    "Parameters:\n",
    "n - 5 number of days for the channel\n",
    "- 5, 10, 15, 20, 25, 50, 100, 150, 200, 250 (10 vals)\n",
    "\n",
    "e - used for an alternative definition of extrema\n",
    "- 2, 3, 4, 5, 10, 20, 25, 50, 100, 200 (10 vals)\n",
    "\n",
    "b - 0.001, 0.005, 0.01, 0.015, 0.02, 0.03, 0.04, 0.05 (8 vals)\n",
    "d - 2, 3, 4, 5 (4 vals)\n",
    "c - 5, 10, 25, 50 (4 vals)\n",
    "\n",
    "Number of rules:\n",
    "((1+c) (n+e)) + ((1+c) (b(n+e))) + (dc*(n+e)) = 1220"
   ]
  },
  {
   "cell_type": "code",
   "execution_count": 6,
   "metadata": {},
   "outputs": [],
   "source": [
    "def find_support_resistance(df, t, label='close', show_graph=False, e=False, b=False):\n",
    "    \"\"\"\n",
    "    df - dataframe with pricing data\n",
    "    t - look-back period\n",
    "    e - Should be int. Used for alternative supprot/resistance definition. That is, most recent closing price has \n",
    "        to be less/greater than the e previous prices.\n",
    "    b - The fixed percentage band filter requires the buy or sell signal to exceed the support/resistance by \n",
    "        a fixed multiplicative amount, b.\n",
    "        \n",
    "    If lookback period is 5, then last price is current. So it actually takes price from -1d and look 4d back\n",
    "    \"\"\"\n",
    "    y = df.tail(t)[label].to_numpy()\n",
    "    price = y[-1] # last day is treated as current\n",
    "    y = y[:-1] # look t-1 days back\n",
    "    # \"global\" definition of supp/res \n",
    "    if not e or e>t:\n",
    "        support = min(y)\n",
    "        resistance = max(y)\n",
    "    # \"local\" definition\n",
    "    elif e:\n",
    "        # support\n",
    "        past_times_smaller_than_itself = list(\n",
    "            map(lambda x: np.where(y[:x[0]]<x[1])[0].size, list(enumerate(y)))\n",
    "        )\n",
    "        smaller_than_e_xtimes_idxs = np.where(np.array(past_times_smaller_than_itself) < e)[0]\n",
    "        support_idx = max(smaller_than_e_xtimes_idxs)\n",
    "        support = y[support_idx]\n",
    "        # resistance\n",
    "        past_times_bigger_than_itself = list(\n",
    "            map(lambda x: np.where(y[:x[0]]>x[1])[0].size, list(enumerate(y)))\n",
    "        )\n",
    "        bigger_than_e_xtimes_idxs = np.where(np.array(past_times_smaller_than_itself) > e)[0]\n",
    "        resistance_idx = max(bigger_than_e_xtimes_idxs)\n",
    "        resistance = y[resistance_idx]\n",
    "    if show_graph:\n",
    "        x = np.array(range(1,len(y)+1))\n",
    "        plt.plot(x, y, '-', label='Original data', markersize=10)\n",
    "        plt.plot(x, [support for _ in x], 'green', label='Supprot')\n",
    "        plt.plot(x, [resistance for _ in x], 'red', label='Resistance')\n",
    "        plt.legend()\n",
    "        plt.show()\n",
    "        \n",
    "    print('support is: ', support)\n",
    "    print('resistance is: ', resistance)\n",
    "        \n",
    "    if not b:\n",
    "        if price > resistance:\n",
    "            return 1\n",
    "        elif price < support:\n",
    "            return -1\n",
    "        return 0\n",
    "    if price > resistance+(resistance*b):\n",
    "        return 1\n",
    "    elif price < support-(support*b):\n",
    "        return -1\n",
    "    return 0"
   ]
  },
  {
   "cell_type": "code",
   "execution_count": 7,
   "metadata": {},
   "outputs": [
    {
     "data": {
      "image/png": "[encoded data removed]",
      "text/plain": [
       "<Figure size 432x288 with 1 Axes>"
      ]
     },
     "metadata": {
      "needs_background": "light"
     },
     "output_type": "display_data"
    },
    {
     "name": "stdout",
     "output_type": "stream",
     "text": [
      "support is:  149.2\n",
      "resistance is:  154.3\n",
      "1\n"
     ]
    }
   ],
   "source": [
    "signal = find_support_resistance(pricing_df, 10, show_graph=True, e=1, b=.01)\n",
    "print(signal)"
   ]
  },
  {
   "cell_type": "code",
   "execution_count": 8,
   "metadata": {},
   "outputs": [
    {
     "name": "stdout",
     "output_type": "stream",
     "text": [
      "            close\n",
      "2019-01-01  161.7\n",
      "2019-01-02  159.3\n",
      "2019-01-03  152.5\n",
      "2019-01-04  148.1\n",
      "2019-01-05  148.5\n",
      "2019-01-06  157.7\n",
      "2019-01-07  156.7\n",
      "2019-01-08  153.9\n",
      "2019-01-09  149.0\n",
      "2019-01-10  153.8\n",
      "2019-01-11  150.5\n",
      "2019-01-12  152.5\n",
      "2019-01-13  153.3\n",
      "2019-01-14  151.1\n",
      "2019-01-15  149.2\n",
      "2019-01-16  154.0\n",
      "2019-01-17  151.4\n",
      "2019-01-18  151.9\n",
      "2019-01-19  154.3\n",
      "2019-01-20  159.0\n"
     ]
    }
   ],
   "source": [
    "dates = [\n",
    "    '2019-01-01',\n",
    "    '2019-01-02', \n",
    "    '2019-01-03', \n",
    "    '2019-01-04',\n",
    "    '2019-01-05',\n",
    "    '2019-01-06',\n",
    "    '2019-01-07',\n",
    "    '2019-01-08',\n",
    "    '2019-01-09',\n",
    "    '2019-01-10',\n",
    "    '2019-01-11',\n",
    "    '2019-01-12',\n",
    "    '2019-01-13',\n",
    "    '2019-01-14',\n",
    "    '2019-01-15',\n",
    "    '2019-01-16',\n",
    "    '2019-01-17',\n",
    "    '2019-01-18',\n",
    "    '2019-01-19',\n",
    "    '2019-01-20',\n",
    "]\n",
    "signals_data = {\n",
    "    'close': [161.7, 159.3, 152.5, 148.1, 148.5, 157.7, 156.7, 153.9, 149., \n",
    "              153.8, 150.5, 152.5, 153.3, 151.1, 149.2, 154., 151.4, 151.9,\n",
    "              154.3, 159.],\n",
    "}\n",
    "test_df = pd.DataFrame(signals_data, index=pd.DatetimeIndex(dates))\n",
    "print(test_df)"
   ]
  },
  {
   "cell_type": "code",
   "execution_count": 9,
   "metadata": {},
   "outputs": [
    {
     "data": {
      "image/png": "[encoded data removed]",
      "text/plain": [
       "<Figure size 432x288 with 1 Axes>"
      ]
     },
     "metadata": {
      "needs_background": "light"
     },
     "output_type": "display_data"
    },
    {
     "name": "stdout",
     "output_type": "stream",
     "text": [
      "support is:  151.4\n",
      "resistance is:  154.3\n"
     ]
    }
   ],
   "source": [
    "test_signal = find_support_resistance(test_df, 20, e=7, show_graph=True)"
   ]
  },
  {
   "cell_type": "code",
   "execution_count": 10,
   "metadata": {},
   "outputs": [],
   "source": [
    "\"\"\"\n",
    "???\n",
    "\n",
    "- set of inputs and rules definition\n",
    "{\n",
    "    'formation': {key: x, params_x},\n",
    "    'contexts': [\n",
    "        {'key': 'y1', params_y1},\n",
    "        {'key': 'y2', params_y2},\n",
    "    ],\n",
    "    'constraints':[\n",
    "        {'key': 'z_1', params_z1},\n",
    "        {'key': 'z_2', params_z1},\n",
    "    ]\n",
    "}\n",
    "\n",
    "option 1:\n",
    "- apply/iterate function for:\n",
    "    - formation and all contexts\n",
    "- go over 2nd time to apply contraints\n",
    "\n",
    "option 2:\n",
    "- go over dasets just once\n",
    "    + formations, contexts etc. as you go\n",
    "    + contstraints (band filter, deley filter, holding filter) as you go\n",
    "- looks like better option to be honest...\n",
    "\n",
    "\n",
    "\n",
    "moj bactester uzywa normalnej petli (i dict a nie pd i iterrows). pytanie czy zawsze mi sie oplaca implemenotwac \n",
    "formations uzywajac jednej biblioteki... czy olac to... i uzywac roznych w zaleznosci od rule.\n",
    "(to drugie wydaje sie sensowniejsze)\n",
    "\"\"\";"
   ]
  },
  {
   "cell_type": "code",
   "execution_count": null,
   "metadata": {},
   "outputs": [],
   "source": []
  },
  {
   "cell_type": "code",
   "execution_count": null,
   "metadata": {},
   "outputs": [],
   "source": []
  },
  {
   "cell_type": "code",
   "execution_count": 11,
   "metadata": {},
   "outputs": [],
   "source": [
    "cap_groups_settings = {\n",
    "    1: {'name': 'EVALUATION', 'cap': 0.125},\n",
    "    2: {'name': 'EVALUATION_LC', 'cap': 0.10},\n",
    "    3: {'name': 'EARLY_RAMP_UP_LC', 'cap': 0.025},\n",
    "    4: {'name': 'QUARANTINE', 'cap': 0.025},\n",
    "}\n",
    "cap_groups = [\n",
    "    {\n",
    "        'PageType': 67,\n",
    "        'AdEventPrimaryTypes': [4, 5, 9, 10, 13, 15, 52],\n",
    "        'CapGroupName': cap_groups_settings[1]['name'],\n",
    "        'Cap':cap_groups_settings[1]['cap'],\n",
    "    },\n",
    "    {\n",
    "        'PageType': 67,\n",
    "        'AdEventPrimaryTypes': [3],\n",
    "        'CapGroupName': cap_groups_settings[2]['name'],\n",
    "        'Cap':cap_groups_settings[2]['cap'],\n",
    "    },\n",
    "    {\n",
    "        'PageType': 70,\n",
    "        'AdEventPrimaryTypes': [4, 5, 10, 13, 15, 52],\n",
    "        'CapGroupName': cap_groups_settings[1]['name'],\n",
    "        'Cap':cap_groups_settings[1]['cap'],\n",
    "    },\n",
    "    {\n",
    "        'PageType': 70,\n",
    "        'AdEventPrimaryTypes': [3],\n",
    "        'CapGroupName': cap_groups_settings[3]['name'],\n",
    "        'Cap':cap_groups_settings[3]['cap'],\n",
    "    },\n",
    "    {\n",
    "        'PageType': 59,\n",
    "        'AdEventPrimaryTypes': [9],\n",
    "        'CapGroupName': cap_groups_settings[1]['name'],\n",
    "        'Cap':cap_groups_settings[1]['cap'],\n",
    "    },\n",
    "    {\n",
    "        'PageType': 59,\n",
    "        'AdEventPrimaryTypes': [3],\n",
    "        'CapGroupName': cap_groups_settings[2]['name'],\n",
    "        'Cap':cap_groups_settings[2]['cap'],\n",
    "    },\n",
    "    {\n",
    "        'PageType': 58,\n",
    "        'AdEventPrimaryTypes': [4, 7, 9, 13, 14],\n",
    "        'CapGroupName': cap_groups_settings[1]['name'],\n",
    "        'Cap':cap_groups_settings[1]['cap'],\n",
    "    },\n",
    "    {\n",
    "        'PageType': 58,\n",
    "        'AdEventPrimaryTypes': [3],\n",
    "        'CapGroupName': cap_groups_settings[3]['name'],\n",
    "        'Cap':cap_groups_settings[3]['cap'],\n",
    "    },\n",
    "    {\n",
    "        'PageType': 69,\n",
    "        'AdEventPrimaryTypes': [4, 7, 13, 14],\n",
    "        'CapGroupName': cap_groups_settings[1]['name'],\n",
    "        'Cap':cap_groups_settings[1]['cap'],\n",
    "    },\n",
    "    {\n",
    "        'PageType': 84,\n",
    "        'AdEventPrimaryTypes': [4, 7, 13, 14],\n",
    "        'CapGroupName': cap_groups_settings[1]['name'],\n",
    "        'Cap':cap_groups_settings[1]['cap'],\n",
    "    },\n",
    "    {\n",
    "        'PageType': 39,\n",
    "        'AdEventPrimaryTypes': [3],\n",
    "        'CapGroupName': cap_groups_settings[2]['name'],\n",
    "        'Cap':cap_groups_settings[2]['cap'],\n",
    "    },\n",
    "    {\n",
    "        'PageType': 7,\n",
    "        'AdEventPrimaryTypes': [3],\n",
    "        'CapGroupName': cap_groups_settings[4]['name'],\n",
    "        'Cap':cap_groups_settings[4]['cap'],\n",
    "    },\n",
    "]"
   ]
  },
  {
   "cell_type": "code",
   "execution_count": 12,
   "metadata": {},
   "outputs": [],
   "source": [
    "cap_group_page_types = {\n",
    "    g: list(set([\n",
    "        grp['PageType']\n",
    "        for grp in cap_groups if grp['CapGroupName'] == g\n",
    "    ]))\n",
    "    for g in [g['name'] for g in cap_groups_settings.values()]\n",
    "}"
   ]
  },
  {
   "cell_type": "code",
   "execution_count": 13,
   "metadata": {},
   "outputs": [
    {
     "data": {
      "text/plain": [
       "{'EVALUATION': [67, 69, 70, 84, 58, 59],\n",
       " 'EVALUATION_LC': [59, 67, 39],\n",
       " 'EARLY_RAMP_UP_LC': [58, 70],\n",
       " 'QUARANTINE': [7]}"
      ]
     },
     "execution_count": 13,
     "metadata": {},
     "output_type": "execute_result"
    }
   ],
   "source": [
    "cap_group_page_types"
   ]
  },
  {
   "cell_type": "code",
   "execution_count": 14,
   "metadata": {},
   "outputs": [
    {
     "name": "stdout",
     "output_type": "stream",
     "text": [
      "tak\n"
     ]
    }
   ],
   "source": [
    "a = 1\n",
    "b = 2\n",
    "c = 3\n",
    "\n",
    "if (\n",
    "    a==1 and\n",
    "    b==2 and\n",
    "    c==3\n",
    "):\n",
    "    print('tak')"
   ]
  },
  {
   "cell_type": "code",
   "execution_count": 15,
   "metadata": {},
   "outputs": [],
   "source": [
    "import backtester"
   ]
  },
  {
   "cell_type": "code",
   "execution_count": 21,
   "metadata": {},
   "outputs": [
    {
     "ename": "SyntaxError",
     "evalue": "invalid syntax (<ipython-input-21-edb5a1e65b94>, line 9)",
     "output_type": "error",
     "traceback": [
      "\u001b[0;36m  File \u001b[0;32m\"<ipython-input-21-edb5a1e65b94>\"\u001b[0;36m, line \u001b[0;32m9\u001b[0m\n\u001b[0;31m    df = pd.DataFrame(signals_data, index=pd.DatetimeIndex(dates))}\u001b[0m\n\u001b[0m                                                                  ^\u001b[0m\n\u001b[0;31mSyntaxError\u001b[0m\u001b[0;31m:\u001b[0m invalid syntax\n"
     ]
    }
   ],
   "source": [
    "dates = ['2010-09-28', '2010-09-29', '2010-09-30', '2010-10-01']\n",
    "signals_data = {\n",
    "    'close': [100, 210, 90, 80],\n",
    "    'entry_long': [1,0,0,0],\n",
    "    'exit_long': [0,1,0,0],\n",
    "    'entry_short': [0,0,1,0],\n",
    "    'exit_short': [0,0,0,1],\n",
    "}\n",
    "df = pd.DataFrame(signals_data, index=pd.DatetimeIndex(dates))"
   ]
  },
  {
   "cell_type": "code",
   "execution_count": 22,
   "metadata": {},
   "outputs": [
    {
     "data": {
      "text/plain": [
       "{'TEST_SIGS_1':             close  entry_long  exit_long  entry_short  exit_short\n",
       " 2010-09-28    100           1          0            0           0\n",
       " 2010-09-29    210           0          1            0           0\n",
       " 2010-09-30     90           0          0            1           0\n",
       " 2010-10-01     80           0          0            0           1}"
      ]
     },
     "execution_count": 22,
     "metadata": {},
     "output_type": "execute_result"
    }
   ],
   "source": [
    "df"
   ]
  },
  {
   "cell_type": "code",
   "execution_count": 24,
   "metadata": {},
   "outputs": [],
   "source": [
    "bt = backtester.Backtester(\n",
    "    df, \n",
    "    position_sizer=None,\n",
    "    init_capital=1000,\n",
    ")"
   ]
  },
  {
   "cell_type": "code",
   "execution_count": 26,
   "metadata": {},
   "outputs": [
    {
     "data": {
      "text/plain": [
       "{'TEST_SIGS_1': {'close': {Timestamp('2010-09-28 00:00:00'): 100,\n",
       "   Timestamp('2010-09-29 00:00:00'): 210,\n",
       "   Timestamp('2010-09-30 00:00:00'): 90,\n",
       "   Timestamp('2010-10-01 00:00:00'): 80},\n",
       "  'entry_long': {Timestamp('2010-09-28 00:00:00'): 1,\n",
       "   Timestamp('2010-09-29 00:00:00'): 0,\n",
       "   Timestamp('2010-09-30 00:00:00'): 0,\n",
       "   Timestamp('2010-10-01 00:00:00'): 0},\n",
       "  'exit_long': {Timestamp('2010-09-28 00:00:00'): 0,\n",
       "   Timestamp('2010-09-29 00:00:00'): 1,\n",
       "   Timestamp('2010-09-30 00:00:00'): 0,\n",
       "   Timestamp('2010-10-01 00:00:00'): 0},\n",
       "  'entry_short': {Timestamp('2010-09-28 00:00:00'): 0,\n",
       "   Timestamp('2010-09-29 00:00:00'): 0,\n",
       "   Timestamp('2010-09-30 00:00:00'): 1,\n",
       "   Timestamp('2010-10-01 00:00:00'): 0},\n",
       "  'exit_short': {Timestamp('2010-09-28 00:00:00'): 0,\n",
       "   Timestamp('2010-09-29 00:00:00'): 0,\n",
       "   Timestamp('2010-09-30 00:00:00'): 0,\n",
       "   Timestamp('2010-10-01 00:00:00'): 1}}}"
      ]
     },
     "execution_count": 26,
     "metadata": {},
     "output_type": "execute_result"
    }
   ],
   "source": [
    "bt.signals"
   ]
  },
  {
   "cell_type": "code",
   "execution_count": 33,
   "metadata": {},
   "outputs": [
    {
     "name": "stdout",
     "output_type": "stream",
     "text": [
      "            close\n",
      "2019-01-01      1\n",
      "2019-01-02      2\n",
      "2019-01-03      3\n",
      "            new\n",
      "2019-01-02    2\n",
      "2019-01-03    3\n",
      "            close  new\n",
      "2019-01-01      1  NaN\n",
      "2019-01-02      2  2.0\n",
      "2019-01-03      3  3.0\n"
     ]
    }
   ],
   "source": [
    "df1 = pd.DataFrame({'close':[1,2,3]}, index=pd.DatetimeIndex(['2019-01-01', '2019-01-02', '2019-01-03']))\n",
    "df2 = pd.DataFrame({'new':[2,3]}, index=pd.DatetimeIndex(['2019-01-02', '2019-01-03']))\n",
    "print(df1)\n",
    "print(df2)\n",
    "new = pd.merge(left=df1,right=df2, how='left', left_index=True, right_index=True)\n",
    "sc vb\n",
    "print(new)"
   ]
  },
  {
   "cell_type": "code",
   "execution_count": 48,
   "metadata": {},
   "outputs": [],
   "source": [
    "enumAdEventPrimaryType = {\n",
    "    0: 'ADEVENT_NONE',\n",
    "    1: 'ADEVENT_IMPRESSIONS',\n",
    "    2: 'ADEVENT_CLICKS',\n",
    "    3: 'ADEVENT_LINK_CLICKS',\n",
    "    4: 'ADEVENT_OFFSITE_CONVERSIONS',\n",
    "    5: 'ADEVENT_MOBILE_APP_INSTALLS',\n",
    "    6: 'ADEVENT_VIDEO_VIEW',\n",
    "    7: 'ADEVENT_OFFSITE_ENGAGEMENT',\n",
    "    8: 'ADEVENT_POST_ENGAGEMENT',\n",
    "    9: 'ADEVENT_LANDING_PAGE_VIEW',\n",
    "    10: 'ADEVENT_MOBILE_APP_EVENT',\n",
    "    11: 'ADEVENT_FIRST_DAILY_IMPRESSIONS',\n",
    "    12: 'ADEVENT_OFFLINE_CONVERSIONS',\n",
    "    13: 'ADEVENT_OFFSITE_CONVERSIONS_VALUE',\n",
    "    14: 'ADEVENT_OFFSITE_ENGAGEMENT_VALUE',\n",
    "    15: 'ADEVENT_MOBILE_APP_EVENT_VALUE',\n",
    "    16: 'ADEVENT_LEADGEN',\n",
    "    17: 'ADEVENT_FAN_FBPAGE',\n",
    "    18: 'ADEVENT_ATTENTION',\n",
    "    19: 'ADEVENT_STORE_VISIT',\n",
    "    20: 'ADEVENT_EVENT_RSVP',\n",
    "    21: 'ADEVENT_LPAB_FAN_VALUE',\n",
    "    22: 'ADEVENT_AD_RECALL',\n",
    "    23: 'ADEVENT_ONSITE_CONVERSIONS',\n",
    "    24: 'ADEVENT_APP_INSTALL',\n",
    "    25: 'ADEVENT_APP_ENGAGEMENT',\n",
    "    26: 'ADEVENT_APP_EVENT_POST_CLICK',\n",
    "    27: 'ADEVENT_RESEARCH_POLL_RESPONSE',\n",
    "    28: 'ADEVENT_CARD_VIEW',\n",
    "    29: 'ADEVENT_INSTAGRAM_PROFILE_ENGAGEMENT',\n",
    "    30: 'ADEVENT_COMMERCE_EVENT',\n",
    "    31: 'ADEVENT_CANVAS_VIEW_TIME',\n",
    "    32: 'ADEVENT_MOBILE_APP_INSTALL_CONVERSION',\n",
    "    33: 'ADEVENT_DWELL',\n",
    "    34: 'ADEVENT_TAB_VIEW',\n",
    "    35: 'ADEVENT_PAGE_ENGAGEMENT',\n",
    "    36: 'ADEVENT_MESSENGER',\n",
    "    37: 'ADEVENT_STORE_VISIT_WITH_DWELL',\n",
    "    38: 'ADEVENT_WEBSITE_VISIT',\n",
    "    39: 'ADEVENT_RECEIVE_OFFER',\n",
    "    40: 'ADEVENT_OFFSITE_MOBILE_APP_CONVERSION',\n",
    "    41: 'ADEVENT_WHATSAPP',\n",
    "    42: 'ADEVENT_APP_USE',\n",
    "    43: 'ADEVENT_FOLLOW',\n",
    "    44: 'ADEVENT_POST',\n",
    "    45: 'ADEVENT_UNLIKE',\n",
    "    46: 'ADEVENT_CREDIT_SPENT',\n",
    "    47: 'ADEVENT_GAMES_PLAYS',\n",
    "    48: 'ADEVENT_CHECKIN',\n",
    "    49: 'ADEVENT_VOTE',\n",
    "    50: 'ADEVENT_MENTION',\n",
    "    51: 'ADEVENT_LEADGEN_PIXEL',\n",
    "    52: 'ADEVENT_MAI_AUDIENCE_QUALITY_SCORE',\n",
    "    53: 'ADEVENT_IN_APP_BROWSER_NO_BOUNCE',\n",
    "    54: 'ADEVENT_IN_APP_BROWSER_BOUNCE',\n",
    "    55: 'ADEVENT_EARNED_IMPRESSION',\n",
    "    56: 'ADEVENT_SAP_REGRET_SCORE',\n",
    "    57: 'ADEVENT_FEEDBACK_DISLIKE',\n",
    "    58: 'ADEVENT_FEEDBACK_DISLIKE_UNDO',\n",
    "    59: 'ADEVENT_FEEDBACK_DISLIKE_REPORT',\n",
    "    60: 'ADEVENT_FEEDBACK_DISLIKE_REPORT_UNDO',\n",
    "    61: 'ADEVENT_FEEDBACK_ADVERTISER_PAGE_DISLIKE',\n",
    "    62: 'ADEVENT_FEEDBACK_ADVERTISER_PAGE_DISLIKE_UNDO',\n",
    "    63: 'ADEVENT_AEO_AUDIENCE_CORRECTION_MULTIPLIER',\n",
    "    64: 'ADEVENT_APPS_USES',\n",
    "}"
   ]
  },
  {
   "cell_type": "code",
   "execution_count": 38,
   "metadata": {},
   "outputs": [],
   "source": [
    "import itertools\n",
    "\n",
    "cap_groups = [\n",
    "  {\n",
    "    'PageType': 7,\n",
    "    'AdEventPrimaryTypes': [\n",
    "      3\n",
    "    ],\n",
    "    'CapGroupName': 'QUARANTINE',\n",
    "    'Cap': 0.025\n",
    "  },\n",
    "  {\n",
    "    'PageType': 39,\n",
    "    'AdEventPrimaryTypes': [\n",
    "      3\n",
    "    ],\n",
    "    'CapGroupName': 'EVALUATION_LC',\n",
    "    'Cap': 0.1\n",
    "  },\n",
    "  {\n",
    "    'PageType': 58,\n",
    "    'AdEventPrimaryTypes': [\n",
    "      4,\n",
    "      7,\n",
    "      9,\n",
    "      13,\n",
    "      14\n",
    "    ],\n",
    "    'CapGroupName': 'EVALUATION',\n",
    "    'Cap': 0.125\n",
    "  },\n",
    "  {\n",
    "    'PageType': 58,\n",
    "    'AdEventPrimaryTypes': [\n",
    "      3\n",
    "    ],\n",
    "    'CapGroupName': 'EARLY_RAMP_UP_LC',\n",
    "    'Cap': 0.025\n",
    "  },\n",
    "  {\n",
    "    'PageType': 59,\n",
    "    'AdEventPrimaryTypes': [\n",
    "      9\n",
    "    ],\n",
    "    'CapGroupName': 'EVALUATION',\n",
    "    'Cap': 0.125\n",
    "  },\n",
    "  {\n",
    "    'PageType': 59,\n",
    "    'AdEventPrimaryTypes': [\n",
    "      3\n",
    "    ],\n",
    "    'CapGroupName': 'EVALUATION_LC',\n",
    "    'Cap': 0.1\n",
    "  },\n",
    "  {\n",
    "    'PageType': 67,\n",
    "    'AdEventPrimaryTypes': [\n",
    "      4,\n",
    "      5,\n",
    "      9,\n",
    "      10,\n",
    "      13,\n",
    "      15,\n",
    "      52\n",
    "    ],\n",
    "    'CapGroupName': 'EVALUATION',\n",
    "    'Cap': 0.125\n",
    "  },\n",
    "  {\n",
    "    'PageType': 67,\n",
    "    'AdEventPrimaryTypes': [\n",
    "      3\n",
    "    ],\n",
    "    'CapGroupName': 'EVALUATION_LC',\n",
    "    'Cap': 0.1\n",
    "  },\n",
    "  {\n",
    "    'PageType': 69,\n",
    "    'AdEventPrimaryTypes': [\n",
    "      4,\n",
    "      7,\n",
    "      13,\n",
    "      14\n",
    "    ],\n",
    "    'CapGroupName': 'EVALUATION',\n",
    "    'Cap': 0.125\n",
    "  },\n",
    "  {\n",
    "    'PageType': 70,\n",
    "    'AdEventPrimaryTypes': [\n",
    "      4,\n",
    "      5,\n",
    "      10,\n",
    "      13,\n",
    "      15,\n",
    "      22,\n",
    "      52\n",
    "    ],\n",
    "    'CapGroupName': 'EVALUATION',\n",
    "    'Cap': 0.125\n",
    "  },\n",
    "  {\n",
    "    'PageType': 70,\n",
    "    'AdEventPrimaryTypes': [\n",
    "      3\n",
    "    ],\n",
    "    'CapGroupName': 'EARLY_RAMP_UP_LC',\n",
    "    'Cap': 0.025\n",
    "  },\n",
    "  {\n",
    "    'PageType': 84,\n",
    "    'AdEventPrimaryTypes': [\n",
    "      4,\n",
    "      7,\n",
    "      13,\n",
    "      14\n",
    "    ],\n",
    "    'CapGroupName': 'EVALUATION',\n",
    "    'Cap': 0.125\n",
    "  }\n",
    "]"
   ]
  },
  {
   "cell_type": "code",
   "execution_count": 73,
   "metadata": {},
   "outputs": [
    {
     "name": "stdout",
     "output_type": "stream",
     "text": [
      "{'EVALUATION': [4, 5, 7, 9, 10, 13, 14, 15, 52, 22], 'EVALUATION_LC': [3], 'EARLY_RAMP_UP_LC': [3], 'QUARANTINE': [3]}\n"
     ]
    }
   ],
   "source": [
    "cap_group_primary_types = {\n",
    "    g: list(set(\n",
    "        itertools.chain(*[grp['AdEventPrimaryTypes']\n",
    "        for grp in cap_groups if grp['CapGroupName'] == g])\n",
    "    ))\n",
    "    for g in [g['name'] for g in cap_groups_settings.values()]\n",
    "}\n",
    "print(cap_group_primary_types)\n",
    "# that is wrong... not only cap group name has to be the same. but also AEPTs!"
   ]
  },
  {
   "cell_type": "code",
   "execution_count": 78,
   "metadata": {},
   "outputs": [
    {
     "name": "stdout",
     "output_type": "stream",
     "text": [
      "{'EVALUATION': [67, 69, 70, 84, 58, 59], 'EVALUATION_LC': [67, 59, 39], 'EARLY_RAMP_UP_LC': [58, 70], 'QUARANTINE': [7]}\n"
     ]
    }
   ],
   "source": [
    "cap_group_page_types = {\n",
    "    g: list(set([\n",
    "        grp['PageType']\n",
    "        for grp in cap_groups if grp['CapGroupName'] == g\n",
    "    ]))\n",
    "    for g in [g['name'] for g in cap_groups_settings.values()]\n",
    "}\n",
    "print(cap_group_page_types)"
   ]
  },
  {
   "cell_type": "code",
   "execution_count": 88,
   "metadata": {},
   "outputs": [
    {
     "name": "stdout",
     "output_type": "stream",
     "text": [
      "{'QUARANTINE (LINK_CLICKS)': {'AdEventPrimaryTypes_ids': [3], 'AdEventPrimaryTypes_names': ['LINK_CLICKS'], 'PageTypes': [7], 'CapGroupName': 'QUARANTINE'}, 'EVALUATION_LC (LINK_CLICKS)': {'AdEventPrimaryTypes_ids': [3], 'AdEventPrimaryTypes_names': ['LINK_CLICKS'], 'PageTypes': [39, 59, 67], 'CapGroupName': 'EVALUATION_LC'}, 'EVALUATION (OFFSITE_CONVERSIONS, OFFSITE_ENGAGEMENT, LANDING_PAGE_VIEW, OFFSITE_CONVERSIONS_VALUE, OFFSITE_ENGAGEMENT_VALUE)': {'AdEventPrimaryTypes_ids': [4, 7, 9, 13, 14], 'AdEventPrimaryTypes_names': ['OFFSITE_CONVERSIONS', 'OFFSITE_ENGAGEMENT', 'LANDING_PAGE_VIEW', 'OFFSITE_CONVERSIONS_VALUE', 'OFFSITE_ENGAGEMENT_VALUE'], 'PageTypes': [58], 'CapGroupName': 'EVALUATION'}, 'EARLY_RAMP_UP_LC (LINK_CLICKS)': {'AdEventPrimaryTypes_ids': [3], 'AdEventPrimaryTypes_names': ['LINK_CLICKS'], 'PageTypes': [58, 70], 'CapGroupName': 'EARLY_RAMP_UP_LC'}, 'EVALUATION (LANDING_PAGE_VIEW)': {'AdEventPrimaryTypes_ids': [9], 'AdEventPrimaryTypes_names': ['LANDING_PAGE_VIEW'], 'PageTypes': [59], 'CapGroupName': 'EVALUATION'}, 'EVALUATION (OFFSITE_CONVERSIONS, MOBILE_APP_INSTALLS, LANDING_PAGE_VIEW, MOBILE_APP_EVENT, OFFSITE_CONVERSIONS_VALUE, MOBILE_APP_EVENT_VALUE, MAI_AUDIENCE_QUALITY_SCORE)': {'AdEventPrimaryTypes_ids': [4, 5, 9, 10, 13, 15, 52], 'AdEventPrimaryTypes_names': ['OFFSITE_CONVERSIONS', 'MOBILE_APP_INSTALLS', 'LANDING_PAGE_VIEW', 'MOBILE_APP_EVENT', 'OFFSITE_CONVERSIONS_VALUE', 'MOBILE_APP_EVENT_VALUE', 'MAI_AUDIENCE_QUALITY_SCORE'], 'PageTypes': [67], 'CapGroupName': 'EVALUATION'}, 'EVALUATION (OFFSITE_CONVERSIONS, OFFSITE_ENGAGEMENT, OFFSITE_CONVERSIONS_VALUE, OFFSITE_ENGAGEMENT_VALUE)': {'AdEventPrimaryTypes_ids': [4, 7, 13, 14], 'AdEventPrimaryTypes_names': ['OFFSITE_CONVERSIONS', 'OFFSITE_ENGAGEMENT', 'OFFSITE_CONVERSIONS_VALUE', 'OFFSITE_ENGAGEMENT_VALUE'], 'PageTypes': [69, 84], 'CapGroupName': 'EVALUATION'}, 'EVALUATION (OFFSITE_CONVERSIONS, MOBILE_APP_INSTALLS, MOBILE_APP_EVENT, OFFSITE_CONVERSIONS_VALUE, MOBILE_APP_EVENT_VALUE, AD_RECALL, MAI_AUDIENCE_QUALITY_SCORE)': {'AdEventPrimaryTypes_ids': [4, 5, 10, 13, 15, 22, 52], 'AdEventPrimaryTypes_names': ['OFFSITE_CONVERSIONS', 'MOBILE_APP_INSTALLS', 'MOBILE_APP_EVENT', 'OFFSITE_CONVERSIONS_VALUE', 'MOBILE_APP_EVENT_VALUE', 'AD_RECALL', 'MAI_AUDIENCE_QUALITY_SCORE'], 'PageTypes': [70], 'CapGroupName': 'EVALUATION'}}\n",
      "-------> idx:  0\n",
      "QUARANTINE (LINK_CLICKS)\n",
      "{'AdEventPrimaryTypes_ids': [3], 'AdEventPrimaryTypes_names': ['LINK_CLICKS'], 'PageTypes': [7], 'CapGroupName': 'QUARANTINE'}\n",
      "-------> idx:  1\n",
      "EVALUATION_LC (LINK_CLICKS)\n",
      "{'AdEventPrimaryTypes_ids': [3], 'AdEventPrimaryTypes_names': ['LINK_CLICKS'], 'PageTypes': [39, 59, 67], 'CapGroupName': 'EVALUATION_LC'}\n",
      "-------> idx:  2\n",
      "EVALUATION (OFFSITE_CONVERSIONS, OFFSITE_ENGAGEMENT, LANDING_PAGE_VIEW, OFFSITE_CONVERSIONS_VALUE, OFFSITE_ENGAGEMENT_VALUE)\n",
      "{'AdEventPrimaryTypes_ids': [4, 7, 9, 13, 14], 'AdEventPrimaryTypes_names': ['OFFSITE_CONVERSIONS', 'OFFSITE_ENGAGEMENT', 'LANDING_PAGE_VIEW', 'OFFSITE_CONVERSIONS_VALUE', 'OFFSITE_ENGAGEMENT_VALUE'], 'PageTypes': [58], 'CapGroupName': 'EVALUATION'}\n",
      "-------> idx:  3\n",
      "EARLY_RAMP_UP_LC (LINK_CLICKS)\n",
      "{'AdEventPrimaryTypes_ids': [3], 'AdEventPrimaryTypes_names': ['LINK_CLICKS'], 'PageTypes': [58, 70], 'CapGroupName': 'EARLY_RAMP_UP_LC'}\n",
      "-------> idx:  4\n",
      "EVALUATION (LANDING_PAGE_VIEW)\n",
      "{'AdEventPrimaryTypes_ids': [9], 'AdEventPrimaryTypes_names': ['LANDING_PAGE_VIEW'], 'PageTypes': [59], 'CapGroupName': 'EVALUATION'}\n",
      "-------> idx:  5\n",
      "EVALUATION (OFFSITE_CONVERSIONS, MOBILE_APP_INSTALLS, LANDING_PAGE_VIEW, MOBILE_APP_EVENT, OFFSITE_CONVERSIONS_VALUE, MOBILE_APP_EVENT_VALUE, MAI_AUDIENCE_QUALITY_SCORE)\n",
      "{'AdEventPrimaryTypes_ids': [4, 5, 9, 10, 13, 15, 52], 'AdEventPrimaryTypes_names': ['OFFSITE_CONVERSIONS', 'MOBILE_APP_INSTALLS', 'LANDING_PAGE_VIEW', 'MOBILE_APP_EVENT', 'OFFSITE_CONVERSIONS_VALUE', 'MOBILE_APP_EVENT_VALUE', 'MAI_AUDIENCE_QUALITY_SCORE'], 'PageTypes': [67], 'CapGroupName': 'EVALUATION'}\n",
      "-------> idx:  6\n",
      "EVALUATION (OFFSITE_CONVERSIONS, OFFSITE_ENGAGEMENT, OFFSITE_CONVERSIONS_VALUE, OFFSITE_ENGAGEMENT_VALUE)\n",
      "{'AdEventPrimaryTypes_ids': [4, 7, 13, 14], 'AdEventPrimaryTypes_names': ['OFFSITE_CONVERSIONS', 'OFFSITE_ENGAGEMENT', 'OFFSITE_CONVERSIONS_VALUE', 'OFFSITE_ENGAGEMENT_VALUE'], 'PageTypes': [69, 84], 'CapGroupName': 'EVALUATION'}\n",
      "-------> idx:  7\n",
      "EVALUATION (OFFSITE_CONVERSIONS, MOBILE_APP_INSTALLS, MOBILE_APP_EVENT, OFFSITE_CONVERSIONS_VALUE, MOBILE_APP_EVENT_VALUE, AD_RECALL, MAI_AUDIENCE_QUALITY_SCORE)\n",
      "{'AdEventPrimaryTypes_ids': [4, 5, 10, 13, 15, 22, 52], 'AdEventPrimaryTypes_names': ['OFFSITE_CONVERSIONS', 'MOBILE_APP_INSTALLS', 'MOBILE_APP_EVENT', 'OFFSITE_CONVERSIONS_VALUE', 'MOBILE_APP_EVENT_VALUE', 'AD_RECALL', 'MAI_AUDIENCE_QUALITY_SCORE'], 'PageTypes': [70], 'CapGroupName': 'EVALUATION'}\n"
     ]
    }
   ],
   "source": [
    "grp_names_with_aepts = {}\n",
    "for g in cap_groups:\n",
    "    aepts = [enumAdEventPrimaryType[x].replace('ADEVENT_', '') for x in sorted(g['AdEventPrimaryTypes'])]\n",
    "    grp_with_aept = g['CapGroupName'] + ' (' + ', '.join(aepts) + ')'\n",
    "    if grp_with_aept not in grp_names_with_aepts:\n",
    "        grp_names_with_aepts[grp_with_aept] = {\n",
    "            'AdEventPrimaryTypes_ids': sorted(g['AdEventPrimaryTypes']),\n",
    "            'AdEventPrimaryTypes_names': aepts,\n",
    "        }\n",
    "        grp_names_with_aepts[grp_with_aept]['PageTypes'] = [g['PageType']]\n",
    "        grp_names_with_aepts[grp_with_aept]['CapGroupName'] = g['CapGroupName']\n",
    "    else:\n",
    "        grp_names_with_aepts[grp_with_aept]['PageTypes'].append(g['PageType'])\n",
    "print(grp_names_with_aepts)\n",
    "\n",
    "idx = 0\n",
    "for k, v in grp_names_with_aepts.items():\n",
    "    print('-------> idx: ', idx)\n",
    "    print(k)\n",
    "    print(v)\n",
    "    idx += 1"
   ]
  },
  {
   "cell_type": "code",
   "execution_count": null,
   "metadata": {},
   "outputs": [],
   "source": []
  }
 ],
 "metadata": {
  "kernelspec": {
   "display_name": "Python 3",
   "language": "python",
   "name": "python3"
  },
  "language_info": {
   "codemirror_mode": {
    "name": "ipython",
    "version": 3
   },
   "file_extension": ".py",
   "mimetype": "text/x-python",
   "name": "python",
   "nbconvert_exporter": "python",
   "pygments_lexer": "ipython3",
   "version": "3.7.5"
  }
 },
 "nbformat": 4,
 "nbformat_minor": 2
}
